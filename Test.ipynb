{
 "cells": [
  {
   "cell_type": "code",
   "execution_count": 6,
   "id": "1b5d6529-131a-4019-9e04-f8a894ae1a9e",
   "metadata": {},
   "outputs": [],
   "source": [
    "import pandas as pd\n",
    "import requests as quests"
   ]
  },
  {
   "cell_type": "code",
   "execution_count": 7,
   "id": "7b3e0272-8c48-4397-b1c7-09065e1baed3",
   "metadata": {},
   "outputs": [],
   "source": [
    "with open('MyAPI_KEY.txt', 'r') as key:\n",
    "    api_key = key.readlines()[0]"
   ]
  },
  {
   "cell_type": "code",
   "execution_count": 8,
   "id": "037a6074-50b4-4086-b185-b0c24c250d7d",
   "metadata": {},
   "outputs": [],
   "source": [
    "stock_endpoint = f'https://api.polygon.io/v2/aggs/ticker/AAPL/range/1/day/2023-01-09/2023-01-09?apiKey={api_key}'"
   ]
  },
  {
   "cell_type": "code",
   "execution_count": 11,
   "id": "6afb5931-2529-4026-9ce6-6fa4c61e3a96",
   "metadata": {},
   "outputs": [
    {
     "name": "stdout",
     "output_type": "stream",
     "text": [
      "404\n"
     ]
    }
   ],
   "source": [
    "print(quests.get(stock_endpoint).status_code)"
   ]
  }
 ],
 "metadata": {
  "kernelspec": {
   "display_name": "Python 3 (ipykernel)",
   "language": "python",
   "name": "python3"
  },
  "language_info": {
   "codemirror_mode": {
    "name": "ipython",
    "version": 3
   },
   "file_extension": ".py",
   "mimetype": "text/x-python",
   "name": "python",
   "nbconvert_exporter": "python",
   "pygments_lexer": "ipython3",
   "version": "3.11.1"
  }
 },
 "nbformat": 4,
 "nbformat_minor": 5
}
